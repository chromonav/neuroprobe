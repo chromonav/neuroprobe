{
 "cells": [
  {
   "cell_type": "markdown",
   "metadata": {},
   "source": [
    "# Twitter Train\n",
    "### Twitter train assignment from https://inclass.kaggle.com/c/twitter-sentiment-analysis2"
   ]
  },
  {
   "cell_type": "markdown",
   "metadata": {},
   "source": [
    "### Download Data"
   ]
  },
  {
   "cell_type": "code",
   "execution_count": 1,
   "metadata": {},
   "outputs": [
    {
     "name": "stdout",
     "output_type": "stream",
     "text": [
      "downloading https://www.kaggle.com/c/twitter-sentiment-analysis2/download/train.csv\n",
      "\n",
      "downloading https://www.kaggle.com/c/twitter-sentiment-analysis2/download/test.csv\n",
      "\n"
     ]
    },
    {
     "name": "stderr",
     "output_type": "stream",
     "text": [
      "rm: Data: No such file or directory\n",
      "\r",
      "                                                                                \r",
      "\r",
      "train.csv N/A% |                                      | ETA:  --:--:--   0.0 s/B\r",
      "                                                                                \r",
      "\r",
      "train.csv   0% |                                       | ETA:  2:37:00 919.6 B/s\r",
      "                                                                                \r",
      "\r",
      "train.csv   0% |                                     | ETA:  0:06:29  21.6 KiB/s\r",
      "                                                                                \r",
      "\r",
      "train.csv   1% |                                     | ETA:  0:01:49  76.3 KiB/s\r",
      "                                                                                \r",
      "\r",
      "train.csv   2% |                                     | ETA:  0:00:57 142.5 KiB/s\r",
      "                                                                                \r",
      "\r",
      "train.csv   3% |#                                    | ETA:  0:00:43 187.6 KiB/s\r",
      "                                                                                \r",
      "\r",
      "train.csv   5% |#                                    | ETA:  0:00:31 251.6 KiB/s\r",
      "                                                                                \r",
      "\r",
      "train.csv   7% |##                                   | ETA:  0:00:21 371.2 KiB/s\r",
      "                                                                                \r",
      "\r",
      "train.csv   9% |###                                  | ETA:  0:00:18 419.8 KiB/s\r",
      "                                                                                \r",
      "\r",
      "train.csv  12% |####                                 | ETA:  0:00:14 516.9 KiB/s\r",
      "                                                                                \r",
      "\r",
      "train.csv  17% |######                               | ETA:  0:00:10 684.7 KiB/s\r",
      "                                                                                \r",
      "\r",
      "train.csv  18% |######                               | ETA:  0:00:09 699.1 KiB/s\r",
      "                                                                                \r",
      "\r",
      "train.csv  20% |#######                              | ETA:  0:00:09 702.1 KiB/s\r",
      "                                                                                \r",
      "\r",
      "train.csv  26% |#########                            | ETA:  0:00:06 902.9 KiB/s\r",
      "                                                                                \r",
      "\r",
      "train.csv  28% |##########                           | ETA:  0:00:06 897.7 KiB/s\r",
      "                                                                                \r",
      "\r",
      "train.csv  30% |###########                          | ETA:  0:00:06 878.8 KiB/s\r",
      "                                                                                \r",
      "\r",
      "train.csv  37% |#############                        | ETA:  0:00:04   1.0 MiB/s\r",
      "                                                                                \r",
      "\r",
      "train.csv  41% |###############                      | ETA:  0:00:04   1.1 MiB/s\r",
      "                                                                                \r",
      "\r",
      "train.csv  43% |################                     | ETA:  0:00:04   1.1 MiB/s\r",
      "                                                                                \r",
      "\r",
      "train.csv  46% |#################                    | ETA:  0:00:03   1.1 MiB/s\r",
      "                                                                                \r",
      "\r",
      "train.csv  47% |#################                    | ETA:  0:00:03   1.1 MiB/s\r",
      "                                                                                \r",
      "\r",
      "train.csv  51% |###################                  | ETA:  0:00:03   1.2 MiB/s\r",
      "                                                                                \r",
      "\r",
      "train.csv  57% |#####################                | ETA:  0:00:02   1.3 MiB/s\r",
      "                                                                                \r",
      "\r",
      "train.csv  63% |#######################              | ETA:  0:00:02   1.3 MiB/s\r",
      "                                                                                \r",
      "\r",
      "train.csv  70% |#########################            | ETA:  0:00:01   1.4 MiB/s\r",
      "                                                                                \r",
      "\r",
      "train.csv  76% |############################         | ETA:  0:00:01   1.5 MiB/s\r",
      "                                                                                \r",
      "\r",
      "train.csv  76% |############################         | ETA:  0:00:01   1.5 MiB/s\r",
      "                                                                                \r",
      "\r",
      "train.csv  82% |##############################       | ETA:  0:00:00   1.5 MiB/s\r",
      "                                                                                \r",
      "\r",
      "train.csv  90% |#################################    | ETA:  0:00:00   1.6 MiB/s\r",
      "                                                                                \r",
      "\r",
      "train.csv  90% |#################################    | ETA:  0:00:00   1.6 MiB/s\r",
      "                                                                                \r",
      "\r",
      "train.csv  92% |##################################   | ETA:  0:00:00   1.6 MiB/s\r",
      "                                                                                \r",
      "\r",
      "train.csv  98% |#################################### | ETA:  0:00:00   1.7 MiB/s\r",
      "                                                                                \r",
      "\r",
      "train.csv 100% |#####################################| Time: 0:00:04   1.7 MiB/s\n",
      "\r",
      "                                                                                \r",
      "\r",
      "test.csv N/A% |                                       | ETA:  --:--:--   0.0 s/B\r",
      "                                                                                \r",
      "\r",
      "test.csv   0% |                                        | ETA:  7:44:43 937.0 B/s\r",
      "                                                                                \r",
      "\r",
      "test.csv   1% |                                      | ETA:  0:01:10 357.1 KiB/s\r",
      "                                                                                \r",
      "\r",
      "test.csv   3% |#                                     | ETA:  0:00:42 575.0 KiB/s\r",
      "                                                                                \r",
      "\r",
      "test.csv   5% |#                                     | ETA:  0:00:31 776.5 KiB/s\r",
      "                                                                                \r",
      "\r",
      "test.csv   5% |##                                    | ETA:  0:00:27 859.1 KiB/s\r",
      "                                                                                \r",
      "\r",
      "test.csv   7% |##                                    | ETA:  0:00:24 971.1 KiB/s\r",
      "                                                                                \r",
      "\r",
      "test.csv   9% |###                                   | ETA:  0:00:18   1.2 MiB/s\r",
      "                                                                                \r",
      "\r",
      "test.csv  11% |####                                  | ETA:  0:00:17   1.3 MiB/s\r",
      "                                                                                \r",
      "\r",
      "test.csv  12% |####                                  | ETA:  0:00:17   1.2 MiB/s\r",
      "                                                                                \r",
      "\r",
      "test.csv  15% |#####                                 | ETA:  0:00:14   1.5 MiB/s\r",
      "                                                                                \r",
      "\r",
      "test.csv  15% |#####                                 | ETA:  0:00:14   1.5 MiB/s\r",
      "                                                                                \r",
      "\r",
      "test.csv  16% |######                                | ETA:  0:00:15   1.4 MiB/s\r",
      "                                                                                \r",
      "\r",
      "test.csv  20% |#######                               | ETA:  0:00:12   1.6 MiB/s\r",
      "                                                                                \r",
      "\r",
      "test.csv  21% |########                              | ETA:  0:00:11   1.7 MiB/s\r",
      "                                                                                \r",
      "\r",
      "test.csv  21% |########                              | ETA:  0:00:11   1.7 MiB/s\r",
      "                                                                                \r",
      "\r",
      "test.csv  23% |########                              | ETA:  0:00:11   1.7 MiB/s\r",
      "                                                                                \r",
      "\r",
      "test.csv  24% |#########                             | ETA:  0:00:10   1.7 MiB/s\r",
      "                                                                                \r",
      "\r",
      "test.csv  24% |#########                             | ETA:  0:00:11   1.7 MiB/s\r",
      "                                                                                \r",
      "\r",
      "test.csv  27% |##########                            | ETA:  0:00:10   1.8 MiB/s\r",
      "                                                                                \r",
      "\r",
      "test.csv  28% |##########                            | ETA:  0:00:09   1.8 MiB/s\r",
      "                                                                                \r",
      "\r",
      "test.csv  32% |############                          | ETA:  0:00:08   1.9 MiB/s\r",
      "                                                                                \r",
      "\r",
      "test.csv  33% |############                          | ETA:  0:00:08   2.0 MiB/s\r",
      "                                                                                \r",
      "\r",
      "test.csv  34% |#############                         | ETA:  0:00:08   2.0 MiB/s\r",
      "                                                                                \r",
      "\r",
      "test.csv  35% |#############                         | ETA:  0:00:07   2.0 MiB/s\r",
      "                                                                                \r",
      "\r",
      "test.csv  37% |##############                        | ETA:  0:00:07   2.1 MiB/s\r",
      "                                                                                \r",
      "\r",
      "test.csv  38% |##############                        | ETA:  0:00:07   2.0 MiB/s\r",
      "                                                                                \r",
      "\r",
      "test.csv  39% |##############                        | ETA:  0:00:07   2.1 MiB/s\r",
      "                                                                                \r",
      "\r",
      "test.csv  39% |###############                       | ETA:  0:00:07   2.0 MiB/s\r",
      "                                                                                \r",
      "\r",
      "test.csv  41% |###############                       | ETA:  0:00:07   2.1 MiB/s\r",
      "                                                                                \r",
      "\r",
      "test.csv  42% |###############                       | ETA:  0:00:07   2.0 MiB/s\r",
      "                                                                                \r",
      "\r",
      "test.csv  43% |################                      | ETA:  0:00:06   2.0 MiB/s\r",
      "                                                                                \r",
      "\r",
      "test.csv  45% |#################                     | ETA:  0:00:06   2.0 MiB/s\r",
      "                                                                                \r",
      "\r",
      "test.csv  47% |##################                    | ETA:  0:00:06   2.1 MiB/s\r",
      "                                                                                \r",
      "\r",
      "test.csv  47% |##################                    | ETA:  0:00:06   2.1 MiB/s\r",
      "                                                                                \r",
      "\r",
      "test.csv  49% |##################                    | ETA:  0:00:05   2.1 MiB/s\r",
      "                                                                                \r",
      "\r",
      "test.csv  50% |###################                   | ETA:  0:00:05   2.1 MiB/s\r",
      "                                                                                \r",
      "\r",
      "test.csv  52% |###################                   | ETA:  0:00:05   2.1 MiB/s\r",
      "                                                                                \r",
      "\r",
      "test.csv  53% |####################                  | ETA:  0:00:05   2.1 MiB/s\r",
      "                                                                                \r",
      "\r",
      "test.csv  54% |####################                  | ETA:  0:00:05   2.1 MiB/s\r",
      "                                                                                \r",
      "\r",
      "test.csv  54% |####################                  | ETA:  0:00:05   2.1 MiB/s\r",
      "                                                                                \r",
      "\r",
      "test.csv  56% |#####################                 | ETA:  0:00:05   2.1 MiB/s\r",
      "                                                                                \r",
      "\r",
      "test.csv  57% |#####################                 | ETA:  0:00:05   2.1 MiB/s\r",
      "                                                                                \r",
      "\r",
      "test.csv  57% |#####################                 | ETA:  0:00:05   2.1 MiB/s\r",
      "                                                                                \r",
      "\r",
      "test.csv  57% |#####################                 | ETA:  0:00:05   2.0 MiB/s\r",
      "                                                                                \r",
      "\r",
      "test.csv  58% |######################                | ETA:  0:00:05   2.0 MiB/s\r",
      "                                                                                \r",
      "\r",
      "test.csv  60% |#######################               | ETA:  0:00:04   2.0 MiB/s\r",
      "                                                                                \r",
      "\r",
      "test.csv  62% |#######################               | ETA:  0:00:04   2.1 MiB/s\r",
      "                                                                                \r",
      "\r",
      "test.csv  63% |########################              | ETA:  0:00:04   2.0 MiB/s\r",
      "                                                                                \r",
      "\r",
      "test.csv  64% |########################              | ETA:  0:00:04   2.0 MiB/s\r",
      "                                                                                \r",
      "\r",
      "test.csv  66% |#########################             | ETA:  0:00:04   2.0 MiB/s\r",
      "                                                                                \r",
      "\r",
      "test.csv  67% |#########################             | ETA:  0:00:03   2.1 MiB/s\r",
      "                                                                                \r",
      "\r",
      "test.csv  67% |#########################             | ETA:  0:00:03   2.0 MiB/s\r",
      "                                                                                \r",
      "\r",
      "test.csv  68% |##########################            | ETA:  0:00:03   2.0 MiB/s\r",
      "                                                                                \r",
      "\r",
      "test.csv  69% |##########################            | ETA:  0:00:03   2.0 MiB/s\r",
      "                                                                                \r",
      "\r",
      "test.csv  70% |##########################            | ETA:  0:00:03   2.0 MiB/s\r",
      "                                                                                \r",
      "\r",
      "test.csv  72% |###########################           | ETA:  0:00:03   2.1 MiB/s\r",
      "                                                                                \r",
      "\r",
      "test.csv  73% |###########################           | ETA:  0:00:03   2.1 MiB/s\r",
      "                                                                                \r",
      "\r",
      "test.csv  74% |############################          | ETA:  0:00:03   2.0 MiB/s\r",
      "                                                                                \r",
      "\r",
      "test.csv  75% |############################          | ETA:  0:00:03   2.0 MiB/s\r",
      "                                                                                \r",
      "\r",
      "test.csv  76% |############################          | ETA:  0:00:02   2.0 MiB/s\r",
      "                                                                                \r",
      "\r",
      "test.csv  77% |#############################         | ETA:  0:00:02   2.0 MiB/s\r",
      "                                                                                \r",
      "\r",
      "test.csv  80% |##############################        | ETA:  0:00:02   2.1 MiB/s\r",
      "                                                                                \r",
      "\r",
      "test.csv  80% |##############################        | ETA:  0:00:02   2.1 MiB/s\r",
      "                                                                                \r",
      "\r",
      "test.csv  81% |###############################       | ETA:  0:00:02   2.1 MiB/s\r",
      "                                                                                \r",
      "\r",
      "test.csv  81% |###############################       | ETA:  0:00:02   2.0 MiB/s\r",
      "                                                                                \r",
      "\r",
      "test.csv  83% |###############################       | ETA:  0:00:01   2.1 MiB/s\r",
      "                                                                                \r",
      "\r",
      "test.csv  84% |################################      | ETA:  0:00:01   2.1 MiB/s\r",
      "                                                                                \r",
      "\r",
      "test.csv  85% |################################      | ETA:  0:00:01   2.1 MiB/s\r",
      "                                                                                \r",
      "\r",
      "test.csv  86% |#################################     | ETA:  0:00:01   2.1 MiB/s\r",
      "                                                                                \r",
      "\r",
      "test.csv  87% |#################################     | ETA:  0:00:01   2.0 MiB/s\r",
      "                                                                                \r",
      "\r",
      "test.csv  88% |#################################     | ETA:  0:00:01   2.1 MiB/s\r",
      "                                                                                \r",
      "\r",
      "test.csv  89% |##################################    | ETA:  0:00:01   2.1 MiB/s\r",
      "                                                                                \r",
      "\r",
      "test.csv  91% |##################################    | ETA:  0:00:01   2.1 MiB/s\r",
      "                                                                                \r",
      "\r",
      "test.csv  91% |##################################    | ETA:  0:00:00   2.1 MiB/s\r",
      "                                                                                \r",
      "\r",
      "test.csv  92% |###################################   | ETA:  0:00:00   2.1 MiB/s\r",
      "                                                                                \r",
      "\r",
      "test.csv  93% |###################################   | ETA:  0:00:00   2.1 MiB/s\r",
      "                                                                                \r",
      "\r",
      "test.csv  94% |###################################   | ETA:  0:00:00   2.1 MiB/s\r",
      "                                                                                \r",
      "\r",
      "test.csv  95% |####################################  | ETA:  0:00:00   2.1 MiB/s\r",
      "                                                                                \r",
      "\r",
      "test.csv  97% |####################################  | ETA:  0:00:00   2.1 MiB/s\r",
      "                                                                                \r",
      "\r",
      "test.csv  98% |##################################### | ETA:  0:00:00   2.1 MiB/s\r",
      "                                                                                \r",
      "\r",
      "test.csv  99% |##################################### | ETA:  0:00:00   2.1 MiB/s\r",
      "                                                                                \r",
      "\r",
      "test.csv 100% |######################################| Time: 0:00:12   2.1 MiB/s\n"
     ]
    }
   ],
   "source": [
    "%%bash \n",
    "rm -r Data\n",
    "mkdir Data\n",
    "cd Data\n",
    "kg download -c \"twitter-sentiment-analysis2\""
   ]
  },
  {
   "cell_type": "markdown",
   "metadata": {},
   "source": [
    "## Pre -Process data:\n",
    "1. Take csv data parase and create a word to vec model.\n",
    "2. Take the data and convert the Sentiment Text with word2vec vector arrays.\n",
    "3. Pad the data."
   ]
  },
  {
   "cell_type": "code",
   "execution_count": 2,
   "metadata": {},
   "outputs": [
    {
     "name": "stderr",
     "output_type": "stream",
     "text": [
      "Using TensorFlow backend.\n"
     ]
    }
   ],
   "source": [
    "import pandas as pd\n",
    "# from keras.preprocessing.text import Tokenizer\n",
    "from gensim.models import Word2Vec\n",
    "raw_data = pd.read_csv('./Data/train.csv').drop(\"ItemID\", axis=1)\n",
    "test_data = pd.read_csv('./Data/test.csv')\n",
    "from keras.preprocessing.text import text_to_word_sequence\n",
    "from keras.preprocessing.sequence import pad_sequences\n",
    "from keras.models import Sequential\n",
    "from keras.layers.core import Dense,Activation\n",
    "from keras.layers.embeddings import Embedding\n",
    "from keras.layers import SpatialDropout1D\n",
    "from keras.layers.recurrent import LSTM\n",
    "EPOCHS = 1\n"
   ]
  },
  {
   "cell_type": "code",
   "execution_count": 3,
   "metadata": {
    "scrolled": true
   },
   "outputs": [
    {
     "data": {
      "text/html": [
       "<div>\n",
       "<style>\n",
       "    .dataframe thead tr:only-child th {\n",
       "        text-align: right;\n",
       "    }\n",
       "\n",
       "    .dataframe thead th {\n",
       "        text-align: left;\n",
       "    }\n",
       "\n",
       "    .dataframe tbody tr th {\n",
       "        vertical-align: top;\n",
       "    }\n",
       "</style>\n",
       "<table border=\"1\" class=\"dataframe\">\n",
       "  <thead>\n",
       "    <tr style=\"text-align: right;\">\n",
       "      <th></th>\n",
       "      <th>Sentiment</th>\n",
       "      <th>SentimentText</th>\n",
       "    </tr>\n",
       "  </thead>\n",
       "  <tbody>\n",
       "    <tr>\n",
       "      <th>0</th>\n",
       "      <td>0</td>\n",
       "      <td>is so sad for my APL frie...</td>\n",
       "    </tr>\n",
       "    <tr>\n",
       "      <th>1</th>\n",
       "      <td>0</td>\n",
       "      <td>I missed the New Moon trail...</td>\n",
       "    </tr>\n",
       "    <tr>\n",
       "      <th>2</th>\n",
       "      <td>1</td>\n",
       "      <td>omg its already 7:30 :O</td>\n",
       "    </tr>\n",
       "    <tr>\n",
       "      <th>3</th>\n",
       "      <td>0</td>\n",
       "      <td>.. Omgaga. Im sooo  im gunna CRy. I'...</td>\n",
       "    </tr>\n",
       "    <tr>\n",
       "      <th>4</th>\n",
       "      <td>0</td>\n",
       "      <td>i think mi bf is cheating on me!!!   ...</td>\n",
       "    </tr>\n",
       "  </tbody>\n",
       "</table>\n",
       "</div>"
      ],
      "text/plain": [
       "   Sentiment                                      SentimentText\n",
       "0          0                       is so sad for my APL frie...\n",
       "1          0                     I missed the New Moon trail...\n",
       "2          1                            omg its already 7:30 :O\n",
       "3          0            .. Omgaga. Im sooo  im gunna CRy. I'...\n",
       "4          0           i think mi bf is cheating on me!!!   ..."
      ]
     },
     "execution_count": 3,
     "metadata": {},
     "output_type": "execute_result"
    }
   ],
   "source": [
    "raw_data.head()"
   ]
  },
  {
   "cell_type": "code",
   "execution_count": 4,
   "metadata": {
    "collapsed": true
   },
   "outputs": [],
   "source": [
    "tokenized = []\n",
    "for x in raw_data['SentimentText'].values.tolist():\n",
    "    tokenized.append(\n",
    "        text_to_word_sequence(\n",
    "            x,\n",
    "            filters='!\"#$%&()*+,-./:;<=>?@[\\\\]^_`{|}~\\t\\n',\n",
    "            split=\" \",\n",
    "            lower=True\n",
    "        ))\n",
    "\n",
    "for x in test_data['SentimentText'].values.tolist():\n",
    "    tokenized.append(\n",
    "        text_to_word_sequence(\n",
    "            x,\n",
    "            filters='!\"#$%&()*+,-./:;<=>?@[\\\\]^_`{|}~\\t\\n',\n",
    "            split=\" \",\n",
    "            lower=True\n",
    "        ))\n",
    "tweet_model = Word2Vec(tokenized, min_count=1, size=100)\n",
    "tweet_model.save(\"tweetmodel\")"
   ]
  },
  {
   "cell_type": "code",
   "execution_count": 5,
   "metadata": {},
   "outputs": [
    {
     "data": {
      "text/plain": [
       "[('hi', 0.8925399780273438),\n",
       " ('hey', 0.6679447889328003),\n",
       " ('alanacoops', 0.6002880930900574),\n",
       " ('hiya', 0.5733997821807861),\n",
       " ('mg8k3d', 0.5646853446960449),\n",
       " ('goodbye', 0.5546966791152954),\n",
       " ('jeremyroloff', 0.5459803938865662),\n",
       " ('trappeded', 0.545304536819458),\n",
       " ('billyraycyrus', 0.5431361794471741),\n",
       " ('mr', 0.5423548221588135)]"
      ]
     },
     "execution_count": 5,
     "metadata": {},
     "output_type": "execute_result"
    }
   ],
   "source": [
    "tweet_model.wv.most_similar(\"hello\")"
   ]
  },
  {
   "cell_type": "markdown",
   "metadata": {},
   "source": [
    "### Convert data to set of vector arrays"
   ]
  },
  {
   "cell_type": "code",
   "execution_count": 6,
   "metadata": {},
   "outputs": [
    {
     "name": "stdout",
     "output_type": "stream",
     "text": [
      "Processing data...\n"
     ]
    }
   ],
   "source": [
    "def processtext(x):\n",
    "    k = text_to_word_sequence(\n",
    "        x,\n",
    "        filters='!\"#$%&()*+,-./:;<=>?@[\\\\]^_`{|}~\\t\\n',\n",
    "        split=\" \",\n",
    "        lower=True\n",
    "    )\n",
    "    k_vec = []\n",
    "    global count\n",
    "#     count = len(k) if len(k) > count else count\n",
    "    for word in k:\n",
    "        try:\n",
    "            vec = (tweet_model.wv[word])\n",
    "        except KeyError:\n",
    "            print(k)\n",
    "        else:\n",
    "            k_vec.append(vec)\n",
    "    return k_vec\n",
    "print(\"Processing data...\")\n",
    "x = map(lambda seq: processtext(seq), raw_data['SentimentText'].values)"
   ]
  },
  {
   "cell_type": "code",
   "execution_count": 7,
   "metadata": {},
   "outputs": [
    {
     "data": {
      "text/plain": [
       "(100,)"
      ]
     },
     "execution_count": 7,
     "metadata": {},
     "output_type": "execute_result"
    }
   ],
   "source": [
    "x[0][0].shape"
   ]
  },
  {
   "cell_type": "markdown",
   "metadata": {},
   "source": [
    "### Pad data to create a tensorflow compatible numpy matrix"
   ]
  },
  {
   "cell_type": "code",
   "execution_count": 8,
   "metadata": {
    "collapsed": true
   },
   "outputs": [],
   "source": [
    "x = pad_sequences(x)\n",
    "y = raw_data['Sentiment'].values\n",
    "# x_test = pad_sequences(x_test)"
   ]
  },
  {
   "cell_type": "code",
   "execution_count": 10,
   "metadata": {},
   "outputs": [
    {
     "data": {
      "text/plain": [
       "(99989, 151, 100)"
      ]
     },
     "execution_count": 10,
     "metadata": {},
     "output_type": "execute_result"
    }
   ],
   "source": [
    "x.shape"
   ]
  },
  {
   "cell_type": "code",
   "execution_count": 11,
   "metadata": {},
   "outputs": [
    {
     "data": {
      "text/plain": [
       "(99989,)"
      ]
     },
     "execution_count": 11,
     "metadata": {},
     "output_type": "execute_result"
    }
   ],
   "source": [
    "y.shape"
   ]
  },
  {
   "cell_type": "markdown",
   "metadata": {},
   "source": [
    "### Create a model"
   ]
  },
  {
   "cell_type": "code",
   "execution_count": null,
   "metadata": {},
   "outputs": [
    {
     "name": "stdout",
     "output_type": "stream",
     "text": [
      "Building Model...\n"
     ]
    }
   ],
   "source": [
    "print(\"Building Model...\")\n",
    "max_features = 20000\n",
    "\n",
    "model = Sequential()\n",
    "model.add(Dense(200, input_shape=x[0].shape))\n",
    "model.add(SpatialDropout1D(rate=0.2))\n",
    "model.add(LSTM(128, dropout=0.2, recurrent_dropout=0.2))\n",
    "model.add(Dense(1))\n",
    "model.add(Activation('sigmoid'))\n",
    "\n",
    "model.compile(loss='binary_crossentropy',\n",
    "              optimizer='adam', metrics=[\"accuracy\"])"
   ]
  },
  {
   "cell_type": "markdown",
   "metadata": {},
   "source": [
    "### Train Model"
   ]
  },
  {
   "cell_type": "code",
   "execution_count": null,
   "metadata": {},
   "outputs": [
    {
     "name": "stdout",
     "output_type": "stream",
     "text": [
      "Training Model\n",
      "Train on 79991 samples, validate on 19998 samples\n",
      "Epoch 1/1\n",
      "19552/79991 [======>.......................] - ETA: 1420s - loss: 0.5514 - acc: 0.7131"
     ]
    }
   ],
   "source": [
    "print(\"Training Model\")\n",
    "model.fit(x, y=y, epochs=EPOCHS, verbose=1,\n",
    "          validation_split=0.2, shuffle=True)\n",
    "print(\"Model Trained\")"
   ]
  },
  {
   "cell_type": "code",
   "execution_count": null,
   "metadata": {
    "collapsed": true
   },
   "outputs": [],
   "source": [
    "# model.predict(x=x_test, y=y_test)"
   ]
  },
  {
   "cell_type": "code",
   "execution_count": null,
   "metadata": {
    "collapsed": true
   },
   "outputs": [],
   "source": [
    "# model.save(\"twitter-sentiment-analysis2.h5\")"
   ]
  }
 ],
 "metadata": {
  "kernelspec": {
   "display_name": "Python 2",
   "language": "python",
   "name": "python2"
  },
  "language_info": {
   "codemirror_mode": {
    "name": "ipython",
    "version": 2
   },
   "file_extension": ".py",
   "mimetype": "text/x-python",
   "name": "python",
   "nbconvert_exporter": "python",
   "pygments_lexer": "ipython2",
   "version": "2.7.13"
  }
 },
 "nbformat": 4,
 "nbformat_minor": 2
}
