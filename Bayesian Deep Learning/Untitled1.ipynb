{
 "cells": [
  {
   "cell_type": "code",
   "execution_count": 9,
   "metadata": {},
   "outputs": [
    {
     "name": "stdout",
     "output_type": "stream",
     "text": [
      "500/500 [100%] ██████████████████████████████ Elapsed: 1s | Loss: 6.842\n"
     ]
    }
   ],
   "source": [
    "%matplotlib inline\n",
    "from __future__ import absolute_import\n",
    "from __future__ import division\n",
    "from __future__ import print_function\n",
    "import matplotlib.pyplot as plt\n",
    "import numpy as np\n",
    "plt.style.use('ggplot')\n",
    "\n",
    "import matplotlib.pyplot as plt\n",
    "\n",
    "import edward as ed\n",
    "from edward.models import Beta,Bernoulli\n",
    "# DATA\n",
    "x_data = np.array([0, 1, 0, 0, 0, 0, 0, 0, 0, 1])\n",
    "\n",
    "# MODEL\n",
    "p = Beta(1.0, 1.0)\n",
    "x = Bernoulli(probs=p, sample_shape=10)\n",
    "\n",
    "# INFERENCE\n",
    "qp = Beta(tf.nn.softplus(tf.Variable(tf.random_normal([]))),\n",
    "          tf.nn.softplus(tf.Variable(tf.random_normal([]))))\n",
    "\n",
    "inference = ed.KLqp({p: qp}, data={x: x_data})\n",
    "inference.run(n_iter=500)\n",
    "\n",
    "# CRITICISM\n"
   ]
  },
  {
   "cell_type": "code",
   "execution_count": 12,
   "metadata": {},
   "outputs": [
    {
     "data": {
      "image/png": "[encoded data removed]",
      "text/plain": [
       "<matplotlib.figure.Figure at 0x117d074d0>"
      ]
     },
     "metadata": {},
     "output_type": "display_data"
    }
   ],
   "source": [
    "x_post = ed.copy(x, {p: qp})\n",
    "y_rep, y = ed.ppc(\n",
    "    lambda xs, zs: tf.reduce_mean(tf.cast(xs[x_post], tf.float32)),\n",
    "    data={x_post: x_data})\n",
    "\n",
    "ed.ppc_stat_hist_plot(\n",
    "    y[0], y_rep, stat_name=r'$T \\equiv$mean', bins=10)\n",
    "plt.show()"
   ]
  },
  {
   "cell_type": "code",
   "execution_count": 16,
   "metadata": {},
   "outputs": [
    {
     "data": {
      "text/plain": [
       "array([[ 1.50626614, -0.44559057,  0.65639493,  0.21059245, -1.38057304,\n",
       "        -0.64625963,  1.60104288,  1.33715908,  1.99346591,  0.83999586,\n",
       "         1.45755591, -1.15000045, -0.52706525, -1.24059022, -0.43144664,\n",
       "        -1.01727891, -0.90039431,  1.64607208,  0.99981796,  0.95345244],\n",
       "       [ 0.3489155 ,  1.30128231, -0.51416137,  2.30974559,  0.51929818,\n",
       "        -1.25817274, -0.98324127,  1.42270099, -0.19762662, -0.32499924,\n",
       "        -0.80494588, -0.20924648, -0.11364961,  1.40375708,  1.10842623,\n",
       "        -0.31589467,  0.73542814, -0.67191026,  0.74999514,  1.3460633 ],\n",
       "       [-0.35323325,  1.84093958, -0.51901692,  0.17588014, -0.69125751,\n",
       "        -0.66097174, -1.05210147, -0.82810935,  1.38976034, -0.21205356,\n",
       "        -0.22615222, -1.55844641, -0.42146724,  0.80776162,  0.60643248,\n",
       "        -0.81130233, -0.60028771, -1.28497862,  1.41708064, -0.68206594],\n",
       "       [-1.20632096, -0.28132726, -1.6488359 ,  1.07647846, -0.22949137,\n",
       "        -0.13954864,  1.51041225, -1.13711502,  2.62329249,  1.02895898,\n",
       "        -0.49149894, -0.90757091,  1.94109122,  0.59068419,  0.72001894,\n",
       "         1.47832424, -0.25746829,  0.82193577,  2.251413  , -0.85643644],\n",
       "       [-0.50994989, -0.44587619, -0.74158637, -1.0205962 , -0.18631432,\n",
       "         0.3426072 ,  2.45428303, -2.37865454, -1.05802689,  0.06857537,\n",
       "         0.5773337 , -0.20834627, -1.47527846,  0.07037326, -0.46388386,\n",
       "         0.32392613,  0.20899144,  0.12437502,  2.11190089,  2.19620971],\n",
       "       [ 1.02485627, -0.88145975,  0.36417322, -1.04218379,  0.51622796,\n",
       "         0.95940422,  1.15954285, -0.3109141 , -1.71141274,  0.65042153,\n",
       "        -0.1139543 , -0.24624301, -0.48132793, -0.97767652,  0.87959683,\n",
       "        -1.03252494, -0.01500746,  2.86544593, -1.18481094,  0.66398099],\n",
       "       [ 0.19288067, -0.09471038, -0.53505015, -1.80400782,  0.3555917 ,\n",
       "         1.14436027,  0.44618016,  0.73005274, -0.99958199, -1.20585223,\n",
       "        -2.23503577,  0.61364591, -0.16876438, -0.43984616,  2.48536973,\n",
       "        -0.95024804, -1.69237515,  0.11045791, -1.03936067, -0.73971474],\n",
       "       [ 0.65874549, -0.21181153,  1.32575211,  1.41844961,  0.78106918,\n",
       "         1.74470451, -0.87276401,  1.03801145, -0.35113765, -1.39829565,\n",
       "        -0.50492908,  0.9237751 , -2.21931692,  0.08965756,  0.60486824,\n",
       "        -1.18299394, -0.58044279, -0.49830717, -0.1629044 ,  0.22164358],\n",
       "       [ 0.71125261, -0.92880392, -0.3073175 , -1.4594744 ,  0.78556304,\n",
       "        -0.72752871, -0.27522732, -1.59879999, -1.8744258 , -0.97801743,\n",
       "         0.54709291,  2.66519636,  0.42139085,  1.32000136,  0.78628782,\n",
       "        -1.0317643 ,  0.27861101,  0.41931216,  0.52088127, -0.31663025],\n",
       "       [-0.48972315, -1.79035385, -0.21457518,  0.90085126, -0.64311878,\n",
       "        -0.48542434,  0.68411481, -2.24644618, -1.43274418,  0.24314732,\n",
       "        -0.68297809,  0.47615878,  1.45941894,  1.81819142,  0.76254651,\n",
       "         0.59146456, -0.85776499, -1.71425717, -0.14832784,  0.83043755],\n",
       "       [ 1.05686303, -1.3015351 , -0.90737   ,  0.03445504,  0.42421792,\n",
       "        -0.46760736, -0.77028488,  0.94590947, -1.12673565, -0.41336729,\n",
       "        -0.21568021,  0.94089634,  0.52792086, -1.83545447, -0.76350838,\n",
       "        -0.81421802,  0.55393654,  0.37797086,  1.90161726, -1.88505281],\n",
       "       [-0.24815518,  1.26857154, -1.72052787, -0.38809747,  1.24766189,\n",
       "        -1.4749123 ,  1.229555  ,  0.83496952, -0.01171898,  0.37091537,\n",
       "        -0.40575976, -0.30898537,  1.49329865, -0.49245816, -0.60649787,\n",
       "         1.7103438 ,  0.51963374,  1.12728617, -0.19346576, -0.29710766],\n",
       "       [-0.4370707 , -0.27261761,  1.06272849, -0.19569208,  0.11879263,\n",
       "        -1.86515367, -1.1753324 ,  0.23205917,  0.80888614,  0.30304999,\n",
       "         0.27333491,  1.34800906, -2.06048608,  1.1462944 ,  1.03156891,\n",
       "        -1.48235835, -2.02458719,  0.52779912, -0.80362704,  0.04638284],\n",
       "       [-0.85400519,  0.02123749,  0.57176765, -1.17490309,  0.50656085,\n",
       "         0.89802006,  0.34994615,  0.67206908,  0.80876509,  1.86978695,\n",
       "         0.18358298,  0.39925141,  0.25117801, -1.82907722, -1.02001166,\n",
       "        -1.58496572, -2.12880514,  0.5090267 ,  0.11123675, -1.06979532],\n",
       "       [ 0.61145949, -1.17781027,  0.63841073, -1.2842725 ,  0.09535061,\n",
       "         0.25164444,  1.50912933,  2.70304601,  0.14614036,  0.23914548,\n",
       "         1.24101545, -1.5367415 , -1.90689413,  1.66020667, -1.43068765,\n",
       "        -0.84189253, -0.46926543, -1.1238695 ,  1.11686058, -1.66663881],\n",
       "       [ 0.09263794, -2.3391798 ,  0.32143839, -0.29848036, -0.71392101,\n",
       "         1.67375799, -1.52698882,  2.16087678,  0.08539408, -0.211363  ,\n",
       "         0.98371685, -0.97756299, -0.09737169, -0.7278157 , -0.72264373,\n",
       "         0.46275731,  0.85997032,  1.24657232, -1.05639412, -0.52725205],\n",
       "       [ 0.38291747,  1.20112771, -0.01600711, -0.67657271,  0.45319912,\n",
       "        -0.10532572,  0.24329612,  0.53383025, -0.78276913, -1.69656765,\n",
       "        -0.6573384 , -0.14106619, -1.24924301, -0.26891953, -2.20902358,\n",
       "        -2.65572313,  0.04695839,  0.33355224, -0.35185109,  0.01136554],\n",
       "       [ 1.64337285, -0.71038178, -0.89540808,  2.58357862, -0.35528703,\n",
       "        -0.11364156,  0.49051231,  1.19192072,  1.60098042, -1.4761218 ,\n",
       "         0.41318467, -2.8256249 ,  0.56765555, -0.02615348, -0.27055843,\n",
       "         0.10054826, -0.08473839, -0.58346232,  1.27158095,  1.30457736],\n",
       "       [ 0.45736043,  0.62666499,  2.40040593, -0.28113548, -0.06155572,\n",
       "         0.25154153, -1.04764566,  0.36320809, -0.68591567,  0.3887524 ,\n",
       "         0.49204789,  0.96238497, -1.04929992, -0.47809007, -0.20390223,\n",
       "        -0.21421741, -2.01488033, -1.83327312, -1.36541059,  1.25130949],\n",
       "       [ 0.18386841, -0.60069489, -1.47365213, -0.61924475, -0.05148565,\n",
       "         0.8506536 , -1.30283856, -0.48443734, -0.05745013, -0.18818987,\n",
       "         0.95085789,  1.67239106,  1.82755938,  0.75775299,  0.4123273 ,\n",
       "        -2.18013148,  0.46594733,  0.06830396,  0.82113728, -0.15446509]])"
      ]
     },
     "execution_count": 16,
     "metadata": {},
     "output_type": "execute_result"
    }
   ],
   "source": [
    "y_rep"
   ]
  },
  {
   "cell_type": "code",
   "execution_count": 17,
   "metadata": {},
   "outputs": [
    {
     "data": {
      "text/plain": [
       "array([ 1.27395785, -0.5640576 ,  0.55529065,  0.84083118, -0.60624561,\n",
       "       -0.17140317,  0.70578407,  0.50379915, -0.08493867, -0.23216218,\n",
       "       -0.40282426, -0.81913728,  0.70751964, -0.42456679,  0.71818844,\n",
       "       -1.39691009, -0.58254285,  1.89192475,  1.16574603, -0.12346149])"
      ]
     },
     "execution_count": 17,
     "metadata": {},
     "output_type": "execute_result"
    }
   ],
   "source": [
    "y"
   ]
  },
  {
   "cell_type": "code",
   "execution_count": null,
   "metadata": {},
   "outputs": [],
   "source": []
  }
 ],
 "metadata": {
  "kernelspec": {
   "display_name": "Python 2",
   "language": "python",
   "name": "python2"
  },
  "language_info": {
   "codemirror_mode": {
    "name": "ipython",
    "version": 2
   },
   "file_extension": ".py",
   "mimetype": "text/x-python",
   "name": "python",
   "nbconvert_exporter": "python",
   "pygments_lexer": "ipython2",
   "version": "2.7.13"
  }
 },
 "nbformat": 4,
 "nbformat_minor": 2
}
