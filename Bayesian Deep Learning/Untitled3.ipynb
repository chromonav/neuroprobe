{
 "cells": [
  {
   "cell_type": "code",
   "execution_count": 1,
   "metadata": {},
   "outputs": [
    {
     "data": {
      "image/png": "[encoded data removed]",
      "text/plain": [
       "<matplotlib.figure.Figure at 0x1194d34d0>"
      ]
     },
     "metadata": {},
     "output_type": "display_data"
    }
   ],
   "source": [
    "%matplotlib inline\n",
    "%load_ext watermark\n",
    "from __future__ import absolute_import\n",
    "from __future__ import division\n",
    "from __future__ import print_function\n",
    "\n",
    "import edward as ed\n",
    "import matplotlib.pyplot as plt\n",
    "import matplotlib.cm as cm\n",
    "from matplotlib.colors import ListedColormap, Normalize\n",
    "from matplotlib.animation import FuncAnimation\n",
    "from tempfile import NamedTemporaryFile\n",
    "from IPython.display import HTML\n",
    "import seaborn as sns\n",
    "import numpy as np\n",
    "import six\n",
    "import tensorflow as tf\n",
    "\n",
    "plt.style.use('seaborn-talk')\n",
    "sns.set_context(\"talk\", font_scale=1.4)\n",
    "# sns.set_palette(\"colorblind\")\n",
    "sess = ed.get_session()\n",
    "\n",
    "sns.palplot(sns.color_palette())\n",
    "# this can be done only before using Edward\n",
    "ed.set_seed(42)"
   ]
  },
  {
   "cell_type": "code",
   "execution_count": 2,
   "metadata": {},
   "outputs": [
    {
     "name": "stderr",
     "output_type": "stream",
     "text": [
      "/Users/chinmaykulkarni/miniconda2/lib/python2.7/site-packages/ipykernel_launcher.py:24: DeprecationWarning: object of type <type 'float'> cannot be safely interpreted as an integer.\n",
      "/Users/chinmaykulkarni/miniconda2/lib/python2.7/site-packages/ipykernel_launcher.py:25: DeprecationWarning: object of type <type 'float'> cannot be safely interpreted as an integer.\n"
     ]
    }
   ],
   "source": [
    "#!/usr/bin/env python\n",
    "\"\"\"Bayesian neural network using variational inference\n",
    "(see, e.g., Blundell et al. (2015); Kucukelbir et al. (2016)).\n",
    "Inspired by autograd's Bayesian neural network example.\n",
    "This example prettifies some of the tensor naming for visualization in\n",
    "TensorBoard. To view TensorBoard, run `tensorboard --logdir=log`.\n",
    "References\n",
    "----------\n",
    "http://edwardlib.org/tutorials/bayesian-neural-network\n",
    "\"\"\"\n",
    "from __future__ import absolute_import\n",
    "from __future__ import division\n",
    "from __future__ import print_function\n",
    "\n",
    "import edward as ed\n",
    "import numpy as np\n",
    "import tensorflow as tf\n",
    "\n",
    "from edward.models import Normal\n",
    "\n",
    "\n",
    "def build_toy_dataset(N=40, noise_std=0.1):\n",
    "  D = 1\n",
    "  X = np.concatenate([np.linspace(0, 2, num=N / 2),\n",
    "                      np.linspace(6, 8, num=N / 2)])\n",
    "  y = np.cos(X) + np.random.normal(0, noise_std, size=N)\n",
    "  X = (X - 4.0) / 4.0\n",
    "  X = X.reshape((N, D))\n",
    "  return X, y\n",
    "\n",
    "\n",
    "def neural_network(X):\n",
    "  h = tf.tanh(tf.matmul(X, W_0) + b_0)\n",
    "  h = tf.tanh(tf.matmul(h, W_1) + b_1)\n",
    "  h = tf.matmul(h, W_2) + b_2\n",
    "  return tf.reshape(h, [-1])\n",
    "\n",
    "\n",
    "ed.set_seed(42)\n",
    "\n",
    "N = 40  # number of data points\n",
    "D = 1   # number of features\n",
    "\n",
    "# DATA\n",
    "X_train, y_train = build_toy_dataset(N)\n",
    "\n",
    "# MODEL\n",
    "with tf.name_scope(\"model\"):\n",
    "  W_0 = Normal(loc=tf.zeros([D, 10]), scale=tf.ones([D, 10]), name=\"W_0\")\n",
    "  W_1 = Normal(loc=tf.zeros([10, 10]), scale=tf.ones([10, 10]), name=\"W_1\")\n",
    "  W_2 = Normal(loc=tf.zeros([10, 1]), scale=tf.ones([10, 1]), name=\"W_2\")\n",
    "  b_0 = Normal(loc=tf.zeros(10), scale=tf.ones(10), name=\"b_0\")\n",
    "  b_1 = Normal(loc=tf.zeros(10), scale=tf.ones(10), name=\"b_1\")\n",
    "  b_2 = Normal(loc=tf.zeros(1), scale=tf.ones(1), name=\"b_2\")\n",
    "\n",
    "  X = tf.placeholder(tf.float32, [N, D], name=\"X\")\n",
    "  y = Normal(loc=neural_network(X), scale=0.1 * tf.ones(N), name=\"y\")\n",
    "\n",
    "# INFERENCE\n",
    "with tf.name_scope(\"posterior\"):\n",
    "  with tf.name_scope(\"qW_0\"):\n",
    "    qW_0 = Normal(loc=tf.Variable(tf.random_normal([D, 10]), name=\"loc\"),\n",
    "                  scale=tf.nn.softplus(\n",
    "                      tf.Variable(tf.random_normal([D, 10]), name=\"scale\")))\n",
    "  with tf.name_scope(\"qW_1\"):\n",
    "    qW_1 = Normal(loc=tf.Variable(tf.random_normal([10, 10]), name=\"loc\"),\n",
    "                  scale=tf.nn.softplus(\n",
    "                      tf.Variable(tf.random_normal([10, 10]), name=\"scale\")))\n",
    "  with tf.name_scope(\"qW_2\"):\n",
    "    qW_2 = Normal(loc=tf.Variable(tf.random_normal([10, 1]), name=\"loc\"),\n",
    "                  scale=tf.nn.softplus(\n",
    "                      tf.Variable(tf.random_normal([10, 1]), name=\"scale\")))\n",
    "  with tf.name_scope(\"qb_0\"):\n",
    "    qb_0 = Normal(loc=tf.Variable(tf.random_normal([10]), name=\"loc\"),\n",
    "                  scale=tf.nn.softplus(\n",
    "                      tf.Variable(tf.random_normal([10]), name=\"scale\")))\n",
    "  with tf.name_scope(\"qb_1\"):\n",
    "    qb_1 = Normal(loc=tf.Variable(tf.random_normal([10]), name=\"loc\"),\n",
    "                  scale=tf.nn.softplus(\n",
    "                      tf.Variable(tf.random_normal([10]), name=\"scale\")))\n",
    "  with tf.name_scope(\"qb_2\"):\n",
    "    qb_2 = Normal(loc=tf.Variable(tf.random_normal([1]), name=\"loc\"),\n",
    "                  scale=tf.nn.softplus(\n",
    "                      tf.Variable(tf.random_normal([1]), name=\"scale\")))\n",
    "\n",
    "inference = ed.KLqp({W_0: qW_0, b_0: qb_0,\n",
    "                     W_1: qW_1, b_1: qb_1,\n",
    "                     W_2: qW_2, b_2: qb_2}, data={X: X_train, y: y_train})\n"
   ]
  },
  {
   "cell_type": "code",
   "execution_count": 3,
   "metadata": {},
   "outputs": [
    {
     "name": "stdout",
     "output_type": "stream",
     "text": [
      "1000/1000 [100%] ██████████████████████████████ Elapsed: 11s | Loss: 664.360\n"
     ]
    }
   ],
   "source": [
    "inference.run(logdir='log')"
   ]
  },
  {
   "cell_type": "code",
   "execution_count": 12,
   "metadata": {},
   "outputs": [],
   "source": [
    "h = sess.run(y,{X:X_train})"
   ]
  },
  {
   "cell_type": "code",
   "execution_count": 16,
   "metadata": {},
   "outputs": [
    {
     "data": {
      "text/plain": [
       "[<matplotlib.lines.Line2D at 0x11e67bf10>]"
      ]
     },
     "execution_count": 16,
     "metadata": {},
     "output_type": "execute_result"
    },
    {
     "data": {
      "image/png": "[encoded data removed]",
      "text/plain": [
       "<matplotlib.figure.Figure at 0x11e67bf90>"
      ]
     },
     "metadata": {},
     "output_type": "display_data"
    }
   ],
   "source": [
    "plt.plot(X_train,y_train,\"ro\")\n",
    "plt.plot(X_train,h,\"go\")\n"
   ]
  },
  {
   "cell_type": "code",
   "execution_count": null,
   "metadata": {},
   "outputs": [],
   "source": []
  }
 ],
 "metadata": {
  "kernelspec": {
   "display_name": "Python 2",
   "language": "python",
   "name": "python2"
  },
  "language_info": {
   "codemirror_mode": {
    "name": "ipython",
    "version": 2
   },
   "file_extension": ".py",
   "mimetype": "text/x-python",
   "name": "python",
   "nbconvert_exporter": "python",
   "pygments_lexer": "ipython2",
   "version": "2.7.13"
  }
 },
 "nbformat": 4,
 "nbformat_minor": 2
}
